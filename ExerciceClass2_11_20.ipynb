{
 "metadata": {
  "language_info": {
   "codemirror_mode": {
    "name": "ipython",
    "version": 3
   },
   "file_extension": ".py",
   "mimetype": "text/x-python",
   "name": "python",
   "nbconvert_exporter": "python",
   "pygments_lexer": "ipython3",
   "version": "3.8.5-final"
  },
  "orig_nbformat": 2,
  "kernelspec": {
   "name": "Python 3.8.5 32-bit",
   "display_name": "Python 3.8.5 32-bit",
   "metadata": {
    "interpreter": {
     "hash": "24946cafc4e8a5a416eaf274b414fbcf543c3bc7836a8b638a8a71d466dbc29e"
    }
   }
  }
 },
 "nbformat": 4,
 "nbformat_minor": 2,
 "cells": [
  {
   "cell_type": "code",
   "execution_count": 30,
   "metadata": {},
   "outputs": [],
   "source": [
    "class superstring : \n",
    "    def __init__(self,chaine):\n",
    "        self.ch = chaine\n",
    "    def ajoute (self, char) :\n",
    "        self.ch += char\n",
    "    def insert (self, char , i) :\n",
    "        self.ch = self.ch[:i] + char + self.ch[i:]\n",
    "    def upper (self):\n",
    "        self.ch = self.ch.upper()\n",
    "    def __str__(self) :\n",
    "        return  \"type : superstring, content : ECOUTEZ BIEN C'EST TRÈS IMPORTANT CE QUE JE DIS ! \" + self.ch  \n",
    "    def capsdown(self):\n",
    "        self.ch = self.ch.lower() \n",
    "    def tri(self) :\n",
    "        self.ch = self.ch.split()\n",
    "        self.ch.sort()\n",
    "        self.ch = ' '.join(self.ch)    \n"
   ]
  },
  {
   "cell_type": "code",
   "execution_count": 31,
   "metadata": {},
   "outputs": [
    {
     "output_type": "stream",
     "name": "stdout",
     "text": [
      "type : superstring, content : ECOUTEZ BIEN C'EST TRÈS IMPORTANT CE QUE JE DIS ! bien c'est ce dis ecoutez important je que tres\n"
     ]
    }
   ],
   "source": [
    "s1 =superstring (\"Ecoutez bien c'est important\")\n",
    "s1.ajoute(\" ce que je dis\")\n",
    "s1.insert(\" tres\",18)\n",
    "s1.upper()\n",
    "s1.capsdown()\n",
    "s1.tri()\n",
    "print (s1)"
   ]
  },
  {
   "cell_type": "code",
   "execution_count": 82,
   "metadata": {},
   "outputs": [],
   "source": [
    "class formulaire :\n",
    "    def __init__(self, nom, prenom, anneeNaissance):\n",
    "        self.nom = nom.upper()\n",
    "        self.prenom = prenom.upper()\n",
    "        self.anneeNaissance = anneeNaissance\n",
    "    def age (self) :\n",
    "        return 2020 - self.anneeNaissance\n",
    "    def majeur (self) :\n",
    "        return self.age() >= 18\n",
    "    def memefamille(self, formulaire):\n",
    "        return self.nom == formulaire.nom\n",
    "    def memepersonne(self, formulaire):\n",
    "        return self.nom == formulaire.nom and self.prenom == formulaire.prenom and self.anneeNaissance == formulaire.anneeNaissance\n",
    "    def __str__ (self) :\n",
    "        s= self.nom + \",\" + self.prenom +\",\"\n",
    "        return s + str(self.anneeNaissance)\n",
    "    "
   ]
  },
  {
   "cell_type": "code",
   "execution_count": 83,
   "metadata": {},
   "outputs": [
    {
     "output_type": "stream",
     "name": "stdout",
     "text": [
      "False\nTrue\nTrue\nFalse\nDOE,ALICE,2000\nDOE,JOHN,2005\nBILOU,JENNY,2018\n"
     ]
    }
   ],
   "source": [
    "jd = formulaire (\"doe\", \"john\", 2005)\n",
    "ad = formulaire (\"Doe\",\"alice\", 2000)\n",
    "bd = formulaire (\"bilou\",\"jenny\", 2018)\n",
    "cd = [jd,ad,bd]\n",
    "\n",
    "\n",
    "\n",
    "print(jd.majeur())\n",
    "print(ad.majeur())\n",
    "print(jd.memefamille(ad))\n",
    "print(jd.memepersonne(ad))\n",
    "cd.sort(key=lambda x: x.anneeNaissance)\n",
    "for i in cd:\n",
    "    print(i)"
   ]
  },
  {
   "cell_type": "code",
   "execution_count": 5,
   "metadata": {},
   "outputs": [
    {
     "output_type": "stream",
     "name": "stdout",
     "text": [
      "vainqueur :joueur 2\n"
     ]
    }
   ],
   "source": [
    "from random import randrange\n",
    "valeurs = [i for i in range(1,11)]\n",
    "couleurs = [i for i in range(1,5)]\n",
    "nbr_tours = 7\n",
    "score = 0\n",
    "paquets = [(v,c) for v in valeurs for c in couleurs]\n",
    "main1 , main2 = [],  []\n",
    "\n",
    "for i in range(nbr_tours):\n",
    "    x = paquets[randrange(len(paquets))]\n",
    "    main1.append(x)\n",
    "    paquets.remove(x)\n",
    "\n",
    "    y = paquets[randrange(len(paquets))]\n",
    "    main2.append(y)\n",
    "    paquets.remove(y)\n",
    "\n",
    "for i in range(nbr_tours):\n",
    "    if main1 [i] [0] > main2 [i] [0] or (main1 [i] [0] == main2 [i] [0] and main1 [i] [1] == main2 [i] [1]):\n",
    "        score += 1\n",
    "    else:\n",
    "       score -= 1\n",
    "print( \"vainqueur :\" + (\"joueur 1\" if score > 0 else \"joueur 2\") )"
   ]
  },
  {
   "cell_type": "code",
   "execution_count": 12,
   "metadata": {},
   "outputs": [
    {
     "output_type": "stream",
     "name": "stdout",
     "text": [
      "vainqueur: joueur2\n"
     ]
    }
   ],
   "source": [
    "\n",
    "class Carte :\n",
    "\n",
    "    def __init__(self, valeur, couleur):\n",
    "        self.valeur = valeur\n",
    "        self.couleur = couleur\n",
    "    def __str__(self):\n",
    "        return \"Carte:\" + str(self.valeur) + \" \" + str(self.couleur)\n",
    "    def plusGrandQue(self, carte):\n",
    "        return  self.valeur > carte.valeur or (self.valeur == carte.valeur and self.couleur > carte.couleur)\n",
    "\n",
    "\n",
    "class Partie :\n",
    "    def __init__(self, nbr_valeur = 10,nbr_couleur = 4,nbr_tour = 7):\n",
    "        self.nbr_tour = nbr_tour\n",
    "        self.valeurs = [i for i in range(1,11)]\n",
    "        self.couleurs = [i for i in range(1,5)] \n",
    "        self.paquet = [Carte(v,c) for v in valeurs for c in couleurs]\n",
    "        self.main1 = []\n",
    "        self.main2 = []\n",
    "        self.score = 0\n",
    "    def piocher(self):\n",
    "        for i in range(self.nbr_tour):\n",
    "            x = self.paquet[randrange(len(self.paquet))]\n",
    "            self.main1.append(x)\n",
    "            self.paquet.remove(x)\n",
    "\n",
    "            y = self.paquet[randrange(len(self.paquet))]\n",
    "            self.main2.append(y)\n",
    "            self.paquet.remove(y)\n",
    "    def resultat(self):\n",
    "        for i in range(self.nbr_tour):\n",
    "            if self.main1 [i].plusGrandQue(self.main2 [i]):\n",
    "                self.score += 1\n",
    "            else:\n",
    "               self.score -= 1\n",
    "    def resultatfinal(self):\n",
    "        print(\"vainqueur: \" + (\"joueur1\" if self.score > 1 else \"joueur2\"))\n",
    "        \n",
    "            \n",
    "        \n",
    "partie1 = Partie()\n",
    "partie1.piocher()\n",
    "partie1.resultat()\n",
    "partie1.resultatfinal()"
   ]
  }
 ]
}