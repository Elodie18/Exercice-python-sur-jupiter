{
 "cells": [
  {
   "cell_type": "code",
   "execution_count": 6,
   "metadata": {},
   "outputs": [
    {
     "name": "stdout",
     "output_type": "stream",
     "text": [
      "1 Boubaker Samy\n",
      "2 Pawtowski Wilfried\n",
      "3 Bouharaoui Tarek\n",
      "4 El Majdoub Chourouk\n",
      "5 Bayet Davy\n",
      "6 Vidon Elodie\n",
      "7 Paul Debolina\n",
      "8 Clave Lukas\n",
      "9 Lesoeur Raphael\n",
      "10 Cancian Hadrien\n",
      "11 Jacquemin Anthony\n",
      "12 Bouazza Nedra\n",
      "13 Wathelet Florent\n",
      "14 Djerfi Souad\n",
      "15 Deleage Lucas\n",
      "16 Marais Anthony\n",
      "17 Moreau Jonathan\n",
      "18 Ramanitrarivo Niry\n",
      "19 Fratani Karen\n",
      "20 Pelliccioli Luca\n",
      "21 Fernandes Stéphane\n",
      "22 Beuil Alexandre\n"
     ]
    }
   ],
   "source": [
    "import random\n",
    "\n",
    "liste_nom = [\"Bouazza Nedra\",\"Deleage Lucas\",\"Pelliccioli Luca\",\"Wathelet Florent\",\"Cancian Hadrien\",\"Jacquemin Anthony\",\"Lesoeur Raphael\",\"Vidon Elodie\",\"Bayet Davy\",\"Beuil Alexandre\",\"Marais Anthony\",\"Paul Debolina\",\"Clave Lukas\",\"El Majdoub Chourouk\",\"Fernandes Stéphane\",\"Ramanitrarivo Niry\",\"Bouharaoui Tarek\",\"Fratani Karen\",\"Moreau Jonathan\",\"Boubaker Samy\",\"Djerfi Souad\",\"Pawtowski Wilfried\"]\n",
    "random.shuffle(liste_nom)\n",
    "for i in range(len(liste_nom)):\n",
    "    print(i+1,liste_nom[i])\n"
   ]
  },
  {
   "cell_type": "code",
   "execution_count": null,
   "metadata": {},
   "outputs": [],
   "source": []
  }
 ],
 "metadata": {
  "kernelspec": {
   "display_name": "Python 3",
   "language": "python",
   "name": "python3"
  },
  "language_info": {
   "codemirror_mode": {
    "name": "ipython",
    "version": 3
   },
   "file_extension": ".py",
   "mimetype": "text/x-python",
   "name": "python",
   "nbconvert_exporter": "python",
   "pygments_lexer": "ipython3",
   "version": "3.7.6"
  }
 },
 "nbformat": 4,
 "nbformat_minor": 4
}
