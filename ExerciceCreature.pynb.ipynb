{
 "cells": [
  {
   "cell_type": "code",
   "execution_count": 7,
   "metadata": {},
   "outputs": [],
   "source": [
    "from random import randrange"
   ]
  },
  {
   "cell_type": "code",
   "execution_count": 32,
   "metadata": {},
   "outputs": [
    {
     "output_type": "stream",
     "name": "stdout",
     "text": [
      "Tour 1 bot1 : Case(x=0, y=0) bot2 : Case(x=3, y=3) actif = bot1\nTour 2 bot1 : Case(x=1, y=1) bot2 : Case(x=3, y=3) actif = bot2\nTour 3 bot1 : Case(x=1, y=1) bot2 : Case(x=3, y=2) actif = bot1\nTour 4 bot1 : Case(x=1, y=2) bot2 : Case(x=3, y=2) actif = bot2\nTour 5 bot1 : Case(x=1, y=2) bot2 : Case(x=2, y=1) actif = bot1\nVictoire de bot1\n"
     ]
    }
   ],
   "source": [
    "class Case:\n",
    "    def __init__(self, x, y):\n",
    "        self.x = x\n",
    "        self.y = y\n",
    "        \n",
    "    def __str__(self):\n",
    "        return \"Case(x=\"+str(self.x)+\", y=\"+str(self.y)+\")\"\n",
    "        \n",
    "    def adjacentes(self, jeu):\n",
    "        return [c for c in jeu.listeCases if self != c and abs(c.x-self.x)<2 and abs(c.y-self.y)<2]\n",
    "\n",
    "class Creature:\n",
    "    def __init__(self, nom, position):\n",
    "        self.nom = nom\n",
    "        self.position = position\n",
    "        \n",
    "    def __str__(self):\n",
    "        return self.nom+\" : \"+str(self.position)\n",
    "    \n",
    "    def ChoisirCible (self, jeu):\n",
    "        possibles = self.position.adjacentes(jeu)\n",
    "        occupees = [case for case in possibles if jeu.estOccupee(case)]\n",
    "        if len(occupees)>0:\n",
    "            return occupees[0]\n",
    "        else:\n",
    "            i = randrange(0, len(possibles))\n",
    "            return possibles[i]   \n",
    "\n",
    "class Jeu:\n",
    "    def __init__(self, listeCases, listeCreatures):\n",
    "        self.listeCases = listeCases\n",
    "        self.listeCreatures = listeCreatures\n",
    "        self.tour = 1\n",
    "        self.actif = listeCreatures[0]\n",
    "    \n",
    "    \n",
    "    def __str__(self):\n",
    "        s = \"Tour \"+str(self.tour)+\" \"\n",
    "        for c in self.listeCreatures:\n",
    "            s += str(c) + \" \"\n",
    "        s += \"actif = \" +str(self.actif.nom)\n",
    "        return s\n",
    "    \n",
    "    def estOccupee(self, case):\n",
    "        return any(b.position == case for b in self.listeCreatures)\n",
    "    \n",
    "    def deplacer(self, creature, case):\n",
    "        if creature.position in case.adjacentes(self):\n",
    "            if self.estOccupee(case):\n",
    "                print(\"Victoire de \" + creature.nom)\n",
    "                self.tour = 0\n",
    "            else:\n",
    "                self.tour += 1\n",
    "                self.actif = self.listeCreatures[(self.listeCreatures.index(creature)+1) % len(self.listeCreatures)]\n",
    "            creature.position = case \n",
    "\n",
    "\n",
    "listeCases =[]\n",
    "for x in range(4):\n",
    "    for y in range(4):\n",
    "        listeCases.append(Case(x, y))\n",
    "bot1 = Creature(\"bot1\", listeCases[0])\n",
    "bot2 = Creature(\"bot2\", listeCases[-1])\n",
    "\n",
    "jeu = Jeu(listeCases, [bot1, bot2])   \n",
    "\n",
    "while jeu.tour > 0:\n",
    "    print(jeu)\n",
    "    cible = jeu.actif.ChoisirCible(jeu)\n",
    "    jeu.deplacer(jeu.actif, cible)"
   ]
  },
  {
   "cell_type": "code",
   "execution_count": null,
   "metadata": {},
   "outputs": [],
   "source": []
  },
  {
   "cell_type": "code",
   "execution_count": null,
   "metadata": {},
   "outputs": [],
   "source": []
  },
  {
   "cell_type": "code",
   "execution_count": null,
   "metadata": {},
   "outputs": [],
   "source": []
  },
  {
   "cell_type": "code",
   "execution_count": null,
   "metadata": {},
   "outputs": [],
   "source": []
  },
  {
   "cell_type": "code",
   "execution_count": null,
   "metadata": {},
   "outputs": [],
   "source": []
  },
  {
   "cell_type": "code",
   "execution_count": null,
   "metadata": {},
   "outputs": [],
   "source": []
  }
 ],
 "metadata": {
  "kernelspec": {
   "name": "Python 3.8.5 32-bit",
   "display_name": "Python 3.8.5 32-bit",
   "metadata": {
    "interpreter": {
     "hash": "24946cafc4e8a5a416eaf274b414fbcf543c3bc7836a8b638a8a71d466dbc29e"
    }
   }
  },
  "language_info": {
   "codemirror_mode": {
    "name": "ipython",
    "version": 3
   },
   "file_extension": ".py",
   "mimetype": "text/x-python",
   "name": "python",
   "nbconvert_exporter": "python",
   "pygments_lexer": "ipython3",
   "version": "3.8.5-final"
  }
 },
 "nbformat": 4,
 "nbformat_minor": 4
}