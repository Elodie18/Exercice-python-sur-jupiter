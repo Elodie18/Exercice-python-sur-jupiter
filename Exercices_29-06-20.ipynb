{
 "cells": [
  {
   "cell_type": "code",
   "execution_count": null,
   "metadata": {},
   "outputs": [],
   "source": [
    "n = int(input('Entrez un nombre'))\n",
    "if (n % 2) ==0:\n",
    "    print(n, 'paire')\n",
    "else:\n",
    "    print(n, 'impaire')"
   ]
  },
  {
   "cell_type": "code",
   "execution_count": null,
   "metadata": {},
   "outputs": [],
   "source": []
  },
  {
   "cell_type": "code",
   "execution_count": null,
   "metadata": {},
   "outputs": [],
   "source": [
    "a = float(input (\"Entrez la valeur a : \"))\n",
    "b = float(input (\"Entrez la valeur b : \"))\n",
    "c = float(input (\"Entrez la valeur c : \"))\n",
    "\n",
    "if (a**2 + b**2) == (c**2):\n",
    "    print(\"Le triangle est rectangle\")\n",
    "elif (a**2 + c**2) == (b**2):\n",
    "    print(\"Le triangle est rectangle\")\n",
    "elif (b**2 + c**2) == (a**2):\n",
    "    print(\"Le triangle est rectangle\")\n",
    "else:\n",
    "    print(\"Le triangle n'est pas rectangle\")"
   ]
  },
  {
   "cell_type": "code",
   "execution_count": null,
   "metadata": {},
   "outputs": [],
   "source": []
  },
  {
   "cell_type": "code",
   "execution_count": null,
   "metadata": {},
   "outputs": [
    {
     "name": "stdout",
     "output_type": "stream",
     "text": [
      "veuillez entrée le prix hors taxe15\n",
      "autre prix 17.939999999999998\n"
     ]
    }
   ],
   "source": [
    "prix_ttc = 1\n",
    "while prix_ht != 0 :\n",
    "    prix_ht = float(input(\"veuillez entrée le prix hors taxe\"))\n",
    "    prix_ttc = prix_ht * 1.196\n",
    "    print(\"autre prix\", prix_ttc)"
   ]
  },
  {
   "cell_type": "code",
   "execution_count": null,
   "metadata": {},
   "outputs": [],
   "source": []
  },
  {
   "cell_type": "code",
   "execution_count": 7,
   "metadata": {},
   "outputs": [
    {
     "name": "stdout",
     "output_type": "stream",
     "text": [
      "[1, 2, 3, 4, 5, 7, 8, 9]\n"
     ]
    }
   ],
   "source": [
    "L1 = [2, 7, 3, 1, 5, 7, 1]\n",
    "L2 = [8, 5, 9, 4, 1, 1, 5]\n",
    "L3 = L1 + L2\n",
    "L3 = list(set(L3))\n",
    "print(L3)"
   ]
  },
  {
   "cell_type": "code",
   "execution_count": null,
   "metadata": {},
   "outputs": [],
   "source": []
  },
  {
   "cell_type": "code",
   "execution_count": 9,
   "metadata": {},
   "outputs": [
    {
     "name": "stdout",
     "output_type": "stream",
     "text": [
      "La liste est un palindrome\n"
     ]
    }
   ],
   "source": [
    "List = [1, 2, 3, 4, 3, 2, 1]\n",
    "if(List == List[::-1]):\n",
    "    print(\"La liste est un palindrome\")\n",
    "else:\n",
    "    print(\"La liste n'est pas un palindrome\")"
   ]
  },
  {
   "cell_type": "code",
   "execution_count": null,
   "metadata": {},
   "outputs": [],
   "source": []
  }
 ],
 "metadata": {
  "kernelspec": {
   "display_name": "Python 3",
   "language": "python",
   "name": "python3"
  }
 },
 "nbformat": 4,
 "nbformat_minor": 4
}
