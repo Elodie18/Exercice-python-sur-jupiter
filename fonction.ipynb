{
 "cells": [
  {
   "cell_type": "code",
   "execution_count": 14,
   "metadata": {},
   "outputs": [
    {
     "name": "stdout",
     "output_type": "stream",
     "text": [
      "['Coucou', 'Loulous']\n"
     ]
    }
   ],
   "source": [
    "#Ecrire une fonction hascap(s) qui renvoie tout les mots de la \n",
    "#chaînes commençant par une majuscule.\n",
    "def hascaps(s):\n",
    "    liste = s.split()\n",
    "    liste2 = []\n",
    "    for mot in liste:\n",
    "        if ord(mot[0]) < 90 and ord(mot[0]) > 65:\n",
    "            #print(mot)\n",
    "            liste2.append(mot)\n",
    "    return liste2        \n",
    "    \n",
    "resultat = hascaps('Coucou les Loulous')    \n",
    "print(resultat)\n",
    "    "
   ]
  },
  {
   "cell_type": "code",
   "execution_count": 42,
   "metadata": {},
   "outputs": [
    {
     "name": "stdout",
     "output_type": "stream",
     "text": [
      "Le prix est de 100 euros\n"
     ]
    }
   ],
   "source": [
    "#Proposer une fonction inflation(s) qui va doubler la valeur de tout\n",
    "#les nombre dans la chaine s. Exemple : « Le prix est de 27 euros »\n",
    "#devient « Le prix est de 54 euros ».\n",
    "\n",
    "def inflation(s):\n",
    "    liste = s.split()\n",
    "    for indice,mot in enumerate(liste):\n",
    "        if mot.isnumeric():\n",
    "             liste[indice] = str(int(mot) * 2)\n",
    "    phrase = \" \".join(liste)\n",
    "    return phrase            \n",
    "         \n",
    "    \n",
    "            \n",
    "\n",
    "resultat = inflation('Le prix est de 50 euros') \n",
    "\n",
    "print(resultat)\n",
    "\n"
   ]
  },
  {
   "cell_type": "code",
   "execution_count": 73,
   "metadata": {
    "scrolled": true
   },
   "outputs": [
    {
     "name": "stdout",
     "output_type": "stream",
     "text": [
      "['Onze ans déjà que cela ', 'passe vite Vous vous ', 'étiez servis simplement ', 'de vos armes la mort ', 'n‘éblouit pas les yeux ', 'des partisans Vous ', 'aviez vos portraits sur ', 'les murs de nos villes ']\n"
     ]
    }
   ],
   "source": [
    "#Proposer une fonction lignes qui à partir d’une longue chaîne s (>100\n",
    "#caractères) renvoie une liste de chaîne de caractères contenant\n",
    "#chacun 24 caractères maximum et terminant par un espace.\n",
    "\n",
    "def lignes(s):\n",
    "    liste = s.split()\n",
    "    chaine = []\n",
    "    for mot in liste:\n",
    "        mot += \" \"\n",
    "        if len(mot) < 25:#si le mot depasse 24 caractères on ne le calcul pas \n",
    "            if chaine != [] and len(chaine[-1]) + len(mot) < 25:\n",
    "                chaine[-1] += mot\n",
    "            else:\n",
    "                chaine.append(mot)\n",
    "    return chaine        \n",
    "\n",
    "phrase = \"Onze ans déjà que cela passe vite Vous vous étiez servis simplement de vos armes la mort n‘éblouit pas les yeux des partisans Vous aviez vos portraits sur les murs de nos villes\"\n",
    "resultat = lignes(phrase)\n",
    "print(resultat)\n",
    "\n",
    "    \n",
    "    "
   ]
  },
  {
   "cell_type": "code",
   "execution_count": 87,
   "metadata": {},
   "outputs": [
    {
     "name": "stdout",
     "output_type": "stream",
     "text": [
      "['2', '6.50']\n"
     ]
    }
   ],
   "source": [
    "#Proposer un programme qui renvoie la liste de tout les nombres (y\n",
    "#compris décimaux et négatifs) d’une chaîne de caractères.\n",
    "#A tester sur la chaîne : « Les 2 maquereaux valent 6.50 euros ».\n",
    "\n",
    "from re import findall\n",
    "\n",
    "def programmebis(s):\n",
    "    liste = s.split()\n",
    "    motif = '-?[0-9]+[.,]?[0-9]*'\n",
    "    return findall(motif,s)\n",
    "\n",
    "chaine = \"les 2 maquereaux valent 6.50 euros\" \n",
    "print(programmebis(chaine))\n",
    "    \n",
    "    \n",
    "    \n",
    "    \n",
    "    \n",
    "\n"
   ]
  },
  {
   "cell_type": "code",
   "execution_count": 83,
   "metadata": {},
   "outputs": [
    {
     "name": "stdout",
     "output_type": "stream",
     "text": [
      "['-2', '6.50']\n"
     ]
    }
   ],
   "source": [
    "def programme(s):\n",
    "    liste = s.split()\n",
    "    listefinal = []\n",
    "    for mot in liste:\n",
    "        if mot.isnumeric() or mot.replace('-', '', 1).replace('.', '', 1).replace(',', '', 1).isnumeric():\n",
    "            listefinal.append(mot)\n",
    "    return listefinal \n",
    "\n",
    "chaine = \"les 2 maquereaux valent 6.50 euros\" \n",
    "print(programme(chaine))"
   ]
  },
  {
   "cell_type": "code",
   "execution_count": 7,
   "metadata": {},
   "outputs": [
    {
     "name": "stdout",
     "output_type": "stream",
     "text": [
      "les 2 maquereaux valent 6 euros et les calamars baisse de -20 euros\n"
     ]
    }
   ],
   "source": [
    "#5. Proposer une fonction arrondi(s) qui dans la chaîne s troncature\n",
    "#tout les nombre décimaux. On autorise les nombres négatifs.\n",
    "from re import sub\n",
    "\n",
    "def arrondis(s):\n",
    "    motif = r'(-?[0-9]+)[.,]?[0-9]*'\n",
    "    return sub(motif,r\"\\1\",s)\n",
    "chaine = \"les 2 maquereaux valent 6.50 euros et les calamars baisse de -20 euros\"\n",
    "print(arrondis(chaine))"
   ]
  },
  {
   "cell_type": "code",
   "execution_count": null,
   "metadata": {},
   "outputs": [],
   "source": []
  }
 ],
 "metadata": {
  "kernelspec": {
   "display_name": "Python 3",
   "language": "python",
   "name": "python3"
  },
  "language_info": {
   "codemirror_mode": {
    "name": "ipython",
    "version": 3
   },
   "file_extension": ".py",
   "mimetype": "text/x-python",
   "name": "python",
   "nbconvert_exporter": "python",
   "pygments_lexer": "ipython3",
   "version": "3.7.6"
  }
 },
 "nbformat": 4,
 "nbformat_minor": 4
}
